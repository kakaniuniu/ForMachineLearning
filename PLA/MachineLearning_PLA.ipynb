{
 "cells": [
  {
   "cell_type": "markdown",
   "metadata": {},
   "source": [
    "# Machine learning"
   ]
  },
  {
   "cell_type": "markdown",
   "metadata": {},
   "source": [
    "## PLA(Perceptron learning algorithm)"
   ]
  },
  {
   "cell_type": "markdown",
   "metadata": {},
   "source": [
    "概要：对于给定的n维（两种类型）数据（训练集），找出一个n-1维的面，能够“尽可能”地按照数据类型分开。通过这个面，我们可以通过这个面对测试数据进行预"
   ]
  },
  {
   "cell_type": "markdown",
   "metadata": {},
   "source": [
    "问题1：问什么w要设定为(1,1,1)含义是什么，相当于thresholder=-1\n",
    "问题2：为什么通过list函数设定的traindatalist在函数外面就没有值了？"
   ]
  },
  {
   "cell_type": "code",
   "execution_count": 2,
   "metadata": {},
   "outputs": [
    {
     "data": {
      "image/png": "[encoded data removed]",
      "text/plain": [
       "<matplotlib.figure.Figure at 0x243f45f41d0>"
      ]
     },
     "metadata": {},
     "output_type": "display_data"
    },
    {
     "data": {
      "image/png": "[encoded data removed]",
      "text/plain": [
       "<matplotlib.figure.Figure at 0x243f4370dd8>"
      ]
     },
     "metadata": {},
     "output_type": "display_data"
    }
   ],
   "source": [
    "import numpy as np\n",
    "import matplotlib.pyplot as plt\n",
    "\n",
    "traindatalist=[]\n",
    "labledatalist=[]\n",
    "testdatalist=[]\n",
    "testlablelist=[]\n",
    "\n",
    "def createTrainData():\n",
    "    f = open(\"./test_PLA/traindata.txt\")\n",
    "    for line in f.readlines():\n",
    "        traindata = line.strip().split()\n",
    "        traindata = list(map(lambda data:int(data), traindata))\n",
    "        traindatalist.append(traindata)\n",
    "        \n",
    "def createLableData():\n",
    "    f = open(\"./test_PLA/labledata.txt\")\n",
    "    for line in f.readlines():\n",
    "        labledata = line.strip().split()\n",
    "        labledata = list(map(lambda data:int(data), labledata))\n",
    "        labledatalist.append(labledata)\n",
    "        \n",
    "def createTestData():\n",
    "    f = open(\"./test_PLA/testdata.txt\")\n",
    "    for line in f.readlines():\n",
    "        testdata = line.strip().split()\n",
    "        testdata = list(map(lambda data:int(data), testdata))\n",
    "        testdatalist.append(testdata)\n",
    "        \n",
    "def sigmoid(result):\n",
    "    if result > 0:\n",
    "        return 1\n",
    "    else: \n",
    "        return -1\n",
    "\n",
    "def trainbypla(traindataset, labledataset):\n",
    "    #执行PLA算法\n",
    "    traindata = np.mat(traindataset)\n",
    "    labledata = np.mat(labledataset).transpose()\n",
    "    m,n = np.shape(traindata)\n",
    "    #初始化w\n",
    "    w = np.ones((n,1)) \n",
    "    while(True):\n",
    "        iscompleted = True\n",
    "        for i in range(m):\n",
    "            if sigmoid(np.dot(traindata[i], w)) == labledata[i]:\n",
    "                continue\n",
    "            else:\n",
    "                w += (labledata[i]*traindata[i]).transpose()\n",
    "                iscompleted = False\n",
    "                break\n",
    "        if iscompleted:\n",
    "            break\n",
    "    return w\n",
    "\n",
    "def testbypla(w, testdataset):\n",
    "    testlable = []\n",
    "    testdata = np.mat(testdataset)\n",
    "    m,n = np.shape(testdata)\n",
    "    for i in range(m):\n",
    "        testlable.append(sigmoid(np.dot(testdata[i], w)))\n",
    "    testlablelist.append(testlable)\n",
    "    return testlablelist\n",
    "\n",
    "def plotBestFit(w, traindataset, labledataset):\n",
    "    dataArr = np.array(traindataset)\n",
    "    n = np.shape(dataArr)[0]\n",
    "    xcord1=[];ycord1=[]\n",
    "    xcord2=[];ycord2=[]\n",
    "\n",
    "    for i in range(n):\n",
    "        if labledataset[0][i] == 1:\n",
    "            xcord1.append(dataArr[i,1])\n",
    "            ycord1.append(dataArr[i,2])\n",
    "        else:\n",
    "            xcord2.append(dataArr[i, 1])\n",
    "            ycord2.append(dataArr[i, 2])\n",
    "    fig=plt.figure()\n",
    "    ax= fig.add_subplot(111)\n",
    "    ax.scatter(xcord1, ycord1,s=30,c='red',marker='s')\n",
    "    ax.scatter(xcord2, ycord2,s=30,c='green')\n",
    "    x = np.arange(-3.0, 3.0, 0.1)\n",
    "    y = (-w[0]-w[1] * x)/w[2]\n",
    "    ax.plot(x, y)\n",
    "    plt.xlabel('X1'); plt.ylabel('X2')\n",
    "    plt.show()\n",
    "\n",
    "\n",
    "createTrainData()\n",
    "createLableData()\n",
    "createTestData()\n",
    "\n",
    "w = trainbypla(traindatalist, labledatalist)\n",
    "testbypla(w, testdatalist)\n",
    "plotBestFit(w, traindatalist, labledatalist)\n",
    "plotBestFit(w, testdatalist, testlablelist)\n"
   ]
  },
  {
   "cell_type": "code",
   "execution_count": null,
   "metadata": {},
   "outputs": [],
   "source": []
  }
 ],
 "metadata": {
  "kernelspec": {
   "display_name": "Python 3",
   "language": "python",
   "name": "python3"
  },
  "language_info": {
   "codemirror_mode": {
    "name": "ipython",
    "version": 3
   },
   "file_extension": ".py",
   "mimetype": "text/x-python",
   "name": "python",
   "nbconvert_exporter": "python",
   "pygments_lexer": "ipython3",
   "version": "3.6.4"
  }
 },
 "nbformat": 4,
 "nbformat_minor": 2
}
